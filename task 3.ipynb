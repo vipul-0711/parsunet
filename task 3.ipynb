{
 "cells": [
  {
   "cell_type": "code",
   "execution_count": 1,
   "id": "91d3d1cd",
   "metadata": {},
   "outputs": [
    {
     "name": "stdout",
     "output_type": "stream",
     "text": [
      "Accuracy: 1.0\n",
      "\n",
      "Classification Report:\n",
      "              precision    recall  f1-score   support\n",
      "\n",
      "           0       1.00      1.00      1.00         1\n",
      "           1       1.00      1.00      1.00         1\n",
      "\n",
      "    accuracy                           1.00         2\n",
      "   macro avg       1.00      1.00      1.00         2\n",
      "weighted avg       1.00      1.00      1.00         2\n",
      "\n"
     ]
    }
   ],
   "source": [
    "import pandas as pd\n",
    "from sklearn.model_selection import train_test_split\n",
    "from sklearn.tree import DecisionTreeClassifier\n",
    "from sklearn.metrics import accuracy_score, classification_report\n",
    "from sklearn.preprocessing import LabelEncoder\n",
    "\n",
    "# Create a sample dataset\n",
    "data = {\n",
    "    'Age': [30, 33, 35, 40, 36, 35, 37, 31, 39, 34],\n",
    "    'Job': ['admin', 'technician', 'blue-collar', 'management', 'entrepreneur', 'management', 'blue-collar', 'technician', 'management', 'blue-collar'],\n",
    "    'Marital': ['married', 'single', 'married', 'married', 'single', 'married', 'married', 'single', 'divorced', 'married'],\n",
    "    'Education': ['secondary', 'tertiary', 'secondary', 'tertiary', 'secondary', 'tertiary', 'secondary', 'tertiary', 'tertiary', 'secondary'],\n",
    "    'Balance': [1787, 4789, 1350, 1476, 100, 449, 1530, 409, 4789, 1250],\n",
    "    'Contact': ['cellular', 'cellular', 'cellular', 'unknown', 'telephone', 'unknown', 'cellular', 'cellular', 'unknown', 'telephone'],\n",
    "    'Day': [19, 11, 16, 3, 13, 30, 27, 7, 19, 11],\n",
    "    'Month': ['oct', 'may', 'apr', 'jun', 'aug', 'apr', 'may', 'aug', 'nov', 'jul'],\n",
    "    'Duration': [79, 220, 185, 199, 79, 220, 185, 199, 79, 220],\n",
    "    'Campaign': [1, 1, 1, 4, 1, 1, 1, 4, 1, 1],\n",
    "    'Pdays': [999, 999, 999, 999, 999, 999, 999, 999, 999, 999],\n",
    "    'Previous': [0, 0, 0, 0, 0, 0, 0, 0, 0, 0],\n",
    "    'Purchased': ['no', 'yes', 'no', 'no', 'no', 'yes', 'yes', 'no', 'no', 'yes']\n",
    "}\n",
    "\n",
    "# Convert the dictionary to a DataFrame\n",
    "df = pd.DataFrame(data)\n",
    "\n",
    "# Encode categorical variables\n",
    "le = LabelEncoder()\n",
    "for col in ['Job', 'Marital', 'Education', 'Contact', 'Month', 'Purchased']:\n",
    "    df[col] = le.fit_transform(df[col])\n",
    "\n",
    "# Define features and target variable\n",
    "X = df.drop('Purchased', axis=1)\n",
    "y = df['Purchased']\n",
    "\n",
    "# Split the data into training and testing sets\n",
    "X_train, X_test, y_train, y_test = train_test_split(X, y, test_size=0.2, random_state=42)\n",
    "\n",
    "# Initialize and train the Decision Tree Classifier\n",
    "clf = DecisionTreeClassifier(random_state=42)\n",
    "clf.fit(X_train, y_train)\n",
    "\n",
    "# Predict on the test set\n",
    "y_pred = clf.predict(X_test)\n",
    "\n",
    "# Evaluate the model\n",
    "accuracy = accuracy_score(y_test, y_pred)\n",
    "report = classification_report(y_test, y_pred)\n",
    "\n",
    "print(f'Accuracy: {accuracy}\\n')\n",
    "print('Classification Report:')\n",
    "print(report)\n"
   ]
  },
  {
   "cell_type": "code",
   "execution_count": null,
   "id": "3ca10587",
   "metadata": {},
   "outputs": [],
   "source": []
  }
 ],
 "metadata": {
  "kernelspec": {
   "display_name": "Python 3 (ipykernel)",
   "language": "python",
   "name": "python3"
  },
  "language_info": {
   "codemirror_mode": {
    "name": "ipython",
    "version": 3
   },
   "file_extension": ".py",
   "mimetype": "text/x-python",
   "name": "python",
   "nbconvert_exporter": "python",
   "pygments_lexer": "ipython3",
   "version": "3.10.9"
  }
 },
 "nbformat": 4,
 "nbformat_minor": 5
}
